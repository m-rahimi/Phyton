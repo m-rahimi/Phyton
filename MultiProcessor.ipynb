{
 "cells": [
  {
   "cell_type": "code",
   "execution_count": 5,
   "metadata": {},
   "outputs": [
    {
     "name": "stdout",
     "output_type": "stream",
     "text": [
      "There are 8 CPUs on this machine\n",
      "Unit of work number start 0\n",
      "Unit of work number start 1\n",
      "Unit of work number finish 0\n",
      "Unit of work number start 2\n",
      "Unit of work number finish 1\n",
      "Unit of work number start 3\n",
      "Unit of work number finish 2\n",
      "Unit of work number start 4\n",
      "Unit of work number finish 3\n",
      "Unit of work number finish 4\n"
     ]
    }
   ],
   "source": [
    "import multiprocessing  # the module we will be using for multiprocessing\n",
    "from time import sleep\n",
    "\n",
    "def work(number):\n",
    "    \"\"\"\n",
    "    Multiprocessing work\n",
    "    \n",
    "    Parameters\n",
    "    ----------\n",
    "    number : integer\n",
    "        unit of work number\n",
    "    \"\"\"\n",
    "    \n",
    "    print(\"Unit of work number start %d\" % number)  # simply print the worker's number\n",
    "    sleep(number)\n",
    "    print(\"Unit of work number finish %d\" % number)  # simply print the worker's number\n",
    "    \n",
    "    return number*2, number*3\n",
    "    \n",
    "if __name__ == \"__main__\":  # Allows for the safe importing of the main module\n",
    "    print(\"There are %d CPUs on this machine\" % multiprocessing.cpu_count())\n",
    "    number_processes = 2\n",
    "    pool = multiprocessing.Pool(number_processes)\n",
    "    total_tasks = 5\n",
    "    tasks = [x for x in range(total_tasks)]\n",
    "    results = pool.map_async(work, tasks)\n",
    "    pool.close()\n",
    "    pool.join()"
   ]
  },
  {
   "cell_type": "code",
   "execution_count": 6,
   "metadata": {},
   "outputs": [
    {
     "data": {
      "text/plain": [
       "[(0, 0), (2, 3), (4, 6), (6, 9), (8, 12)]"
      ]
     },
     "execution_count": 6,
     "metadata": {},
     "output_type": "execute_result"
    }
   ],
   "source": [
    "results.get()"
   ]
  },
  {
   "cell_type": "code",
   "execution_count": 3,
   "metadata": {},
   "outputs": [
    {
     "name": "stdout",
     "output_type": "stream",
     "text": [
      "There are 8 CPUs on this machine\n",
      "Unit of work number start 0\n",
      "Unit of work number finish 0\n",
      "Unit of work number start 1\n",
      "Unit of work number start 2\n",
      "Unit of work number finish 1\n",
      "Unit of work number start 3\n",
      "Unit of work number finish 2\n",
      "Unit of work number start 4\n",
      "Unit of work number finish 3\n",
      "Unit of work number finish 4\n"
     ]
    }
   ],
   "source": [
    "if __name__ == \"__main__\":  # Allows for the safe importing of the main module\n",
    "    print(\"There are %d CPUs on this machine\" % multiprocessing.cpu_count())\n",
    "    number_processes = 2\n",
    "    pool = multiprocessing.Pool(number_processes)\n",
    "    total_tasks = 5\n",
    "    tasks = [x for x in range(total_tasks)]\n",
    "    results = pool.map(work, tasks)\n",
    "    pool.close()\n",
    "    pool.join()"
   ]
  },
  {
   "cell_type": "code",
   "execution_count": 4,
   "metadata": {},
   "outputs": [
    {
     "data": {
      "text/plain": [
       "[0, 2, 4, 6, 8]"
      ]
     },
     "execution_count": 4,
     "metadata": {},
     "output_type": "execute_result"
    }
   ],
   "source": [
    "results"
   ]
  },
  {
   "cell_type": "code",
   "execution_count": 67,
   "metadata": {},
   "outputs": [
    {
     "name": "stdout",
     "output_type": "stream",
     "text": [
      "There are 8 CPUs on this machine\n",
      "Unit of work number start 0\n",
      "Unit of work number finish 0\n",
      "Unit of work number start 2\n",
      "Unit of work number start 1\n",
      "Unit of work number finish 1\n",
      "Unit of work number start 3\n",
      "Unit of work number finish 2\n",
      "Unit of work number start 4\n",
      "Unit of work number finish 3\n",
      "Unit of work number start 5\n",
      "Unit of work number finish 4\n",
      "Unit of work number finish 5\n"
     ]
    }
   ],
   "source": [
    "def work2(number, sl):\n",
    "    \"\"\"\n",
    "    Multiprocessing work\n",
    "    \n",
    "    Parameters\n",
    "    ----------\n",
    "    number : integer\n",
    "        unit of work number\n",
    "    \"\"\"\n",
    "    \n",
    "    print(\"Unit of work number start %d\" % number)  # simply print the worker's number\n",
    "    sleep(sl)\n",
    "    print(\"Unit of work number finish %d\" % number)  # simply print the worker's number\n",
    "    \n",
    "    return number*2\n",
    "    \n",
    "if __name__ == \"__main__\":  # Allows for the safe importing of the main module\n",
    "    print(\"There are %d CPUs on this machine\" % multiprocessing.cpu_count())\n",
    "    number_processes = 2\n",
    "    pool = multiprocessing.Pool(number_processes)\n",
    "    total_tasks = 6\n",
    "    tasks = [x for x in range(total_tasks)]\n",
    "    results = pool.starmap(work2, zip(tasks, tasks))\n",
    "    pool.close()\n",
    "    pool.join()"
   ]
  },
  {
   "cell_type": "code",
   "execution_count": 68,
   "metadata": {},
   "outputs": [
    {
     "data": {
      "text/plain": [
       "[0, 2, 4, 6, 8, 10]"
      ]
     },
     "execution_count": 68,
     "metadata": {},
     "output_type": "execute_result"
    }
   ],
   "source": [
    "results"
   ]
  },
  {
   "cell_type": "code",
   "execution_count": 64,
   "metadata": {},
   "outputs": [
    {
     "name": "stdout",
     "output_type": "stream",
     "text": [
      "1 --- 4\n",
      "2 --- 5\n",
      "3 --- 6\n"
     ]
    }
   ],
   "source": [
    "from multiprocessing.dummy import Pool as ThreadPool \n",
    "\n",
    "def write(i, x):\n",
    "    print(i, \"---\", x)\n",
    "    sleep(int(x))\n",
    "    return x+i\n",
    "\n",
    "a = [\"1\",\"2\",\"3\"]\n",
    "b = [\"4\",\"5\",\"6\"] \n",
    "\n",
    "pool = multiprocessing.Pool(number_processes)\n",
    "rr = pool.starmap(write, zip(a,b)) \n",
    "pool.close() \n",
    "pool.join()"
   ]
  },
  {
   "cell_type": "code",
   "execution_count": 65,
   "metadata": {},
   "outputs": [
    {
     "data": {
      "text/plain": [
       "['41', '52', '63']"
      ]
     },
     "execution_count": 65,
     "metadata": {},
     "output_type": "execute_result"
    }
   ],
   "source": [
    "rr"
   ]
  },
  {
   "cell_type": "code",
   "execution_count": 39,
   "metadata": {},
   "outputs": [
    {
     "data": {
      "text/plain": [
       "[[0, 0],\n",
       " [1, 1],\n",
       " [2, 2],\n",
       " [3, 3],\n",
       " [4, 4],\n",
       " [5, 5],\n",
       " [6, 6],\n",
       " [7, 7],\n",
       " [8, 8],\n",
       " [9, 9],\n",
       " [10, 10],\n",
       " [11, 11],\n",
       " [12, 12],\n",
       " [13, 13],\n",
       " [14, 14],\n",
       " [15, 15]]"
      ]
     },
     "execution_count": 39,
     "metadata": {},
     "output_type": "execute_result"
    }
   ],
   "source": [
    "tasks"
   ]
  },
  {
   "cell_type": "code",
   "execution_count": 44,
   "metadata": {},
   "outputs": [
    {
     "name": "stdout",
     "output_type": "stream",
     "text": [
      "[0, 0]\n"
     ]
    },
    {
     "ename": "TypeError",
     "evalue": "work() missing 1 required positional argument: 'ss'",
     "output_type": "error",
     "traceback": [
      "\u001b[0;31m---------------------------------------------------------------------------\u001b[0m",
      "\u001b[0;31mTypeError\u001b[0m                                 Traceback (most recent call last)",
      "\u001b[0;32m<ipython-input-44-6890bef72283>\u001b[0m in \u001b[0;36m<module>\u001b[0;34m()\u001b[0m\n\u001b[1;32m      1\u001b[0m \u001b[0;32mfor\u001b[0m \u001b[0mi\u001b[0m \u001b[0;32min\u001b[0m \u001b[0miter\u001b[0m\u001b[0;34m(\u001b[0m\u001b[0mtasks\u001b[0m\u001b[0;34m)\u001b[0m\u001b[0;34m:\u001b[0m\u001b[0;34m\u001b[0m\u001b[0m\n\u001b[1;32m      2\u001b[0m     \u001b[0mprint\u001b[0m\u001b[0;34m(\u001b[0m\u001b[0mi\u001b[0m\u001b[0;34m)\u001b[0m\u001b[0;34m\u001b[0m\u001b[0m\n\u001b[0;32m----> 3\u001b[0;31m     \u001b[0mwork\u001b[0m\u001b[0;34m(\u001b[0m\u001b[0mi\u001b[0m\u001b[0;34m)\u001b[0m\u001b[0;34m\u001b[0m\u001b[0m\n\u001b[0m",
      "\u001b[0;31mTypeError\u001b[0m: work() missing 1 required positional argument: 'ss'"
     ]
    }
   ],
   "source": [
    "for i in iter(tasks):\n",
    "    print(i)\n",
    "    work(i)"
   ]
  },
  {
   "cell_type": "code",
   "execution_count": 12,
   "metadata": {},
   "outputs": [
    {
     "data": {
      "text/plain": [
       "[0, 2, 4, 6, 8, 10, 12, 14, 16, 18, 20, 22, 24, 26, 28, 30]"
      ]
     },
     "execution_count": 12,
     "metadata": {},
     "output_type": "execute_result"
    }
   ],
   "source": [
    "results.get()"
   ]
  },
  {
   "cell_type": "code",
   "execution_count": 10,
   "metadata": {
    "collapsed": true
   },
   "outputs": [],
   "source": [
    "from time import sleep\n",
    "sleep(10) # Time in seconds."
   ]
  },
  {
   "cell_type": "code",
   "execution_count": null,
   "metadata": {
    "collapsed": true
   },
   "outputs": [],
   "source": []
  }
 ],
 "metadata": {
  "kernelspec": {
   "display_name": "Python 3",
   "language": "python",
   "name": "python3"
  },
  "language_info": {
   "codemirror_mode": {
    "name": "ipython",
    "version": 3
   },
   "file_extension": ".py",
   "mimetype": "text/x-python",
   "name": "python",
   "nbconvert_exporter": "python",
   "pygments_lexer": "ipython3",
   "version": "3.6.3"
  }
 },
 "nbformat": 4,
 "nbformat_minor": 2
}
